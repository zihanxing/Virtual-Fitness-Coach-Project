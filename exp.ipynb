{
 "cells": [
  {
   "cell_type": "code",
   "execution_count": 19,
   "metadata": {},
   "outputs": [],
   "source": [
    "# !pip install llama-index\n",
    "# !pip install llama-index-embeddings-llamafile\n",
    "# !pip install llama-index-llms-llamafil\n",
    "# !pip install llama-index-readers-web\n"
   ]
  },
  {
   "cell_type": "code",
   "execution_count": 6,
   "metadata": {},
   "outputs": [],
   "source": [
    "# ./TinyLlama-1.1B-Chat-v1.0.F16.llamafile --server --nobrowser --embedding --port 8080"
   ]
  },
  {
   "cell_type": "code",
   "execution_count": 16,
   "metadata": {},
   "outputs": [],
   "source": [
    "# Configure LlamaIndex\n",
    "from llama_index.core import Settings\n",
    "from llama_index.embeddings.llamafile import LlamafileEmbedding\n",
    "from llama_index.llms.llamafile import Llamafile\n",
    "from llama_index.core.node_parser import SentenceSplitter\n",
    "\n",
    "Settings.embed_model = LlamafileEmbedding(base_url=\"http://localhost:8080\")\n",
    "\n",
    "Settings.llm = Llamafile(\n",
    "\tbase_url=\"http://localhost:8080\",\n",
    "\ttemperature=0,\n",
    "\tseed=0\n",
    ")\n",
    "\n",
    "# Also set up a sentence splitter to ensure texts are broken into semantically-meaningful chunks (sentences) that don't take up the model's entire\n",
    "# context window (2048 tokens). Since these chunks will be added to LLM prompts as part of the RAG process, we want to leave plenty of space for both\n",
    "# the system prompt and the user's actual question.\n",
    "Settings.transformations = [\n",
    "\tSentenceSplitter(\n",
    "    \tchunk_size=256,\n",
    "    \tchunk_overlap=5\n",
    "\t)\n",
    "]"
   ]
  },
  {
   "cell_type": "code",
   "execution_count": 20,
   "metadata": {},
   "outputs": [
    {
     "name": "stderr",
     "output_type": "stream",
     "text": [
      "Loading files: 100%|██████████| 2/2 [00:00<00:00, 483.94file/s]\n",
      "/opt/anaconda3/envs/llamaindex/lib/python3.10/site-packages/tqdm/auto.py:21: TqdmWarning: IProgress not found. Please update jupyter and ipywidgets. See https://ipywidgets.readthedocs.io/en/stable/user_install.html\n",
      "  from .autonotebook import tqdm as notebook_tqdm\n",
      "Parsing nodes: 100%|██████████| 3/3 [00:00<00:00, 18.99it/s]\n",
      "Generating embeddings: 100%|██████████| 706/706 [01:51<00:00,  6.34it/s]\n"
     ]
    }
   ],
   "source": [
    "# Load local data\n",
    "from llama_index.core import SimpleDirectoryReader\n",
    "local_doc_reader = SimpleDirectoryReader(input_dir='./data')\n",
    "docs = local_doc_reader.load_data(show_progress=True)\n",
    "\n",
    "# We'll load some Wikipedia pages as well\n",
    "from llama_index.readers.web import SimpleWebPageReader\n",
    "urls = [\n",
    "\t'https://en.wikipedia.org/wiki/Push-up',\n",
    "]\n",
    "web_reader = SimpleWebPageReader(html_to_text=True)\n",
    "docs.extend(web_reader.load_data(urls))\n",
    "\n",
    "# Build the index\n",
    "from llama_index.core import VectorStoreIndex\n",
    "\n",
    "index = VectorStoreIndex.from_documents(\n",
    "\tdocs,\n",
    "\tshow_progress=True,\n",
    ")\n",
    "\n",
    "# Save the index\n",
    "index.storage_context.persist(persist_dir=\"./storage\")"
   ]
  },
  {
   "cell_type": "code",
   "execution_count": 21,
   "metadata": {},
   "outputs": [],
   "source": [
    "query_engine = index.as_query_engine()\n"
   ]
  },
  {
   "cell_type": "code",
   "execution_count": 26,
   "metadata": {},
   "outputs": [],
   "source": [
    "question = \"what are some of the variations of push-ups?\""
   ]
  },
  {
   "cell_type": "code",
   "execution_count": 27,
   "metadata": {},
   "outputs": [
    {
     "name": "stdout",
     "output_type": "stream",
     "text": [
      "Sure, here are some variations of push-ups:\n",
      "\n",
      "1. Hanuman push-up: This is a variation of the basic push-up that involves\n",
      "holding the push-up position with the hands on the ground and the feet\n",
      "together. The arms are extended upwards, and the body is in a straight\n",
      "line from head to heels.\n",
      "\n",
      "2. Judo push-up: This is a variation of the push-up that involves holding the\n",
      "push-up position with the hands on the ground and the feet together. The\n",
      "body is in a straight line from head to heels, and the arms are extended\n",
      "upwards.\n",
      "\n",
      "3. Dive-bomber push-up: This is a variation of the push-up that involves\n",
      "holding the push-up position with the hands on the ground and the feet\n",
      "together. The body is in a straight line from head to heels, and the arms\n",
      "are extended upwards and downwards.\n",
      "\n",
      "4. Cat stretch: This is a variation of the push-up that involves holding the\n",
      "push-up position with the hands on the ground and the feet together. The\n",
      "body is in a straight line from head to heels, and the arms are extended\n",
      "upwards and downwards.\n",
      "\n",
      "5. Hindu push-up: This is a variation of the push-up that involves holding the\n",
      "push-up position with the hands on the ground and the feet together. The\n",
      "body is in a straight line from head to heels, and the arms are extended\n",
      "upwards and downwards.</s>\n"
     ]
    }
   ],
   "source": [
    "print(query_engine.query(question))"
   ]
  },
  {
   "cell_type": "code",
   "execution_count": null,
   "metadata": {},
   "outputs": [],
   "source": []
  }
 ],
 "metadata": {
  "kernelspec": {
   "display_name": "llamaindex",
   "language": "python",
   "name": "python3"
  },
  "language_info": {
   "codemirror_mode": {
    "name": "ipython",
    "version": 3
   },
   "file_extension": ".py",
   "mimetype": "text/x-python",
   "name": "python",
   "nbconvert_exporter": "python",
   "pygments_lexer": "ipython3",
   "version": "3.10.14"
  }
 },
 "nbformat": 4,
 "nbformat_minor": 2
}
